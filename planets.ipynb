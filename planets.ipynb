{
 "cells": [
  {
   "cell_type": "code",
   "execution_count": 1,
   "id": "664b6fa6-e684-416f-927b-22d4b2c7f81d",
   "metadata": {},
   "outputs": [],
   "source": [
    "# 3D model of solar system | David Hudson"
   ]
  },
  {
   "cell_type": "code",
   "execution_count": 2,
   "id": "e3d4151d-24d9-457d-92b1-563028234553",
   "metadata": {},
   "outputs": [],
   "source": [
    "# import existing libraries\n",
    "\n",
    "import numpy as np\n",
    "import pandas as pd\n",
    "import matplotlib.pyplot as plt\n"
   ]
  },
  {
   "cell_type": "code",
   "execution_count": 80,
   "id": "05373b25-dfd2-4f90-8b3a-baf495fb9de3",
   "metadata": {},
   "outputs": [],
   "source": [
    "# import data files\n",
    "# to use later DataFrame.to_csv\n",
    "planet_data = pd.read_csv('planet_fact_sheet_NASA.csv')# planet data from NASA | dont want indexing...yet"
   ]
  },
  {
   "cell_type": "code",
   "execution_count": 81,
   "id": "3111312f-74c2-4ed0-8042-d82bd8bc8ecc",
   "metadata": {},
   "outputs": [],
   "source": [
    "# clean up the data frame\n",
    "\n",
    "df.rename(columns={'Unnamed: 0':'Planet'},inplace=True) # rename column Unnamed: 0"
   ]
  },
  {
   "cell_type": "code",
   "execution_count": 87,
   "id": "000619f2-e228-4238-b6be-3a25e4f1215c",
   "metadata": {},
   "outputs": [
    {
     "data": {
      "text/plain": [
       "Unnamed: 0    Diameter (km)\n",
       "MERCURY                4879\n",
       "VENUS                 12104\n",
       "EARTH                 12756\n",
       "MOON                   3475\n",
       "MARS                   6792\n",
       "JUPITER              142984\n",
       "SATURN               120536\n",
       "URANUS                51118\n",
       "NEPTUNE               49528\n",
       "PLUTO                  2376\n",
       "Name: 1, dtype: object"
      ]
     },
     "execution_count": 87,
     "metadata": {},
     "output_type": "execute_result"
    }
   ],
   "source": [
    "# invert DataFrame  \n",
    "planet_data.iloc[1,:]\n",
    "#df_inverse = df.T # store as a variable to be reusable\n",
    "#df_inverse "
   ]
  },
  {
   "cell_type": "code",
   "execution_count": 41,
   "id": "5ec02f86-ea26-4259-ab81-5ef837b4a269",
   "metadata": {},
   "outputs": [
    {
     "data": {
      "text/plain": [
       "RangeIndex(start=0, stop=20, step=1)"
      ]
     },
     "execution_count": 41,
     "metadata": {},
     "output_type": "execute_result"
    }
   ],
   "source": [
    "# \n",
    "df_inverse.keys()"
   ]
  },
  {
   "cell_type": "code",
   "execution_count": null,
   "id": "5138cdff-c6eb-4cd3-bf4c-6bcf628839c0",
   "metadata": {},
   "outputs": [],
   "source": []
  },
  {
   "cell_type": "code",
   "execution_count": 79,
   "id": "b7b8d7ba-5da3-48c6-ad2c-495ff2049f0a",
   "metadata": {},
   "outputs": [
    {
     "name": "stdout",
     "output_type": "stream",
     "text": [
      "RangeIndex(start=0, stop=20, step=1)\n"
     ]
    }
   ],
   "source": []
  },
  {
   "cell_type": "code",
   "execution_count": null,
   "id": "a266ff18-6457-49db-b9da-6c428ccf2b12",
   "metadata": {},
   "outputs": [],
   "source": []
  }
 ],
 "metadata": {
  "kernelspec": {
   "display_name": "Python 3 (ipykernel)",
   "language": "python",
   "name": "python3"
  },
  "language_info": {
   "codemirror_mode": {
    "name": "ipython",
    "version": 3
   },
   "file_extension": ".py",
   "mimetype": "text/x-python",
   "name": "python",
   "nbconvert_exporter": "python",
   "pygments_lexer": "ipython3",
   "version": "3.10.12"
  }
 },
 "nbformat": 4,
 "nbformat_minor": 5
}
