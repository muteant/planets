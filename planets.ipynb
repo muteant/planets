{
 "cells": [
  {
   "cell_type": "code",
   "execution_count": 2,
   "id": "664b6fa6-e684-416f-927b-22d4b2c7f81d",
   "metadata": {},
   "outputs": [],
   "source": [
    "# 3D model of solar system | David Hudson"
   ]
  },
  {
   "cell_type": "code",
   "execution_count": 4,
   "id": "e3d4151d-24d9-457d-92b1-563028234553",
   "metadata": {},
   "outputs": [],
   "source": [
    "# import libraries\n",
    "\n",
    "import numpy as np\n",
    "import pandas as pd\n",
    "import matplotlib.pyplot as plt\n"
   ]
  },
  {
   "cell_type": "code",
   "execution_count": 9,
   "id": "05373b25-dfd2-4f90-8b3a-baf495fb9de3",
   "metadata": {},
   "outputs": [],
   "source": [
    "# import data files\n",
    "\n",
    "planet_data = pd.read_csv('planet_fact_sheet_NASA.csv') # planet data from NASA\n",
    "#planet_data"
   ]
  },
  {
   "cell_type": "code",
   "execution_count": 12,
   "id": "1d707b79-58c9-4b1c-928c-f4bd11c1bd61",
   "metadata": {},
   "outputs": [],
   "source": [
    "# create DataFrames using the imported data\n",
    "\n",
    "planet_df = pd.DataFrame(planet_data) # data frame of planet data\n",
    "# planet_df"
   ]
  },
  {
   "cell_type": "code",
   "execution_count": null,
   "id": "5138cdff-c6eb-4cd3-bf4c-6bcf628839c0",
   "metadata": {},
   "outputs": [],
   "source": [
    "# Next steps will be to rename the missing column and clear missing or\n",
    "# irrelevant data"
   ]
  }
 ],
 "metadata": {
  "kernelspec": {
   "display_name": "Python 3 (ipykernel)",
   "language": "python",
   "name": "python3"
  },
  "language_info": {
   "codemirror_mode": {
    "name": "ipython",
    "version": 3
   },
   "file_extension": ".py",
   "mimetype": "text/x-python",
   "name": "python",
   "nbconvert_exporter": "python",
   "pygments_lexer": "ipython3",
   "version": "3.10.12"
  }
 },
 "nbformat": 4,
 "nbformat_minor": 5
}
